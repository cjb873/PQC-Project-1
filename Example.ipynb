{
 "cells": [
  {
   "cell_type": "code",
   "execution_count": null,
   "id": "7e24a6cd-9ef7-4799-bebd-b5ad5ef00a99",
   "metadata": {},
   "outputs": [],
   "source": [
    "import numpy as np\n",
    "import pandas as pd\n",
    "from inverse import determinant, inverse\n",
    "np.random.seed(2)"
   ]
  },
  {
   "cell_type": "markdown",
   "id": "a11fbb27-6acb-480c-a671-8e5c7b894832",
   "metadata": {},
   "source": [
    "### Setup\n",
    "\n",
    "First, we generate a 5 x 5 matrix."
   ]
  },
  {
   "cell_type": "code",
   "execution_count": null,
   "id": "bafacf48-5b7b-4bcd-8880-c9ec0da3eca5",
   "metadata": {},
   "outputs": [],
   "source": [
    "size = 5\n",
    "\n",
    "A = np.random.randint(-10, 10, size=[size,size]).astype(np.float32)\n",
    "A"
   ]
  },
  {
   "cell_type": "markdown",
   "id": "93723ec1-7690-432a-90ad-1b22c9e3acb9",
   "metadata": {},
   "source": [
    "### Next, we can compute the determinant and inverse of said matrix"
   ]
  },
  {
   "cell_type": "code",
   "execution_count": null,
   "id": "6f0710ab-ae37-4801-be70-6b714f92d09e",
   "metadata": {},
   "outputs": [],
   "source": [
    "determinant(A)"
   ]
  },
  {
   "cell_type": "code",
   "execution_count": null,
   "id": "dcac92ec-e99d-4bc0-8600-6482e27bc6fd",
   "metadata": {},
   "outputs": [],
   "source": [
    "inv_A = inverse(A)\n",
    "inv_A"
   ]
  },
  {
   "cell_type": "markdown",
   "id": "8f03325c-432e-4541-97f6-b2c89ca6ca88",
   "metadata": {},
   "source": [
    "### Sainty check\n",
    "\n",
    "Let's be sure that we are actually computing the correct value of the inverse. Remember that $A^{-1}A = I$."
   ]
  },
  {
   "cell_type": "code",
   "execution_count": null,
   "id": "a61f1b78-1d77-45df-b06f-5226087c54df",
   "metadata": {},
   "outputs": [],
   "source": [
    "inv_A @ A"
   ]
  }
 ],
 "metadata": {
  "kernelspec": {
   "display_name": "Python 3 (ipykernel)",
   "language": "python",
   "name": "python3"
  },
  "language_info": {
   "codemirror_mode": {
    "name": "ipython",
    "version": 3
   },
   "file_extension": ".py",
   "mimetype": "text/x-python",
   "name": "python",
   "nbconvert_exporter": "python",
   "pygments_lexer": "ipython3",
   "version": "3.10.16"
  }
 },
 "nbformat": 4,
 "nbformat_minor": 5
}
